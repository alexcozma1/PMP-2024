{
 "cells": [
  {
   "cell_type": "code",
   "execution_count": 2,
   "metadata": {},
   "outputs": [],
   "source": [
    "import pandas as pd\n",
    "\n",
    "iris = pd.read_csv('iris.csv')\n",
    "\n",
    "y = pd.Categorical(iris['species']).codes\n",
    "x_n = ['sepal_length', 'sepal_width', 'petal_length', 'petal_width']\n",
    "x = iris[x_n].values"
   ]
  },
  {
   "cell_type": "code",
   "execution_count": null,
   "metadata": {},
   "outputs": [],
   "source": [
    "import pymc as pm\n",
    "import numpy as np\n",
    "import arviz as az\n",
    "\n",
    "clusters = 2\n",
    "with pm.Model() as model_mg_0:\n",
    "    p = pm.Dirichlet('p', a = np.ones(clusters))\n",
    "    means = pm.Normal('means', mu = x[0].mean(), sigma = 10, shape = clusters)\n",
    "    sd = pm.HalfNormal('sd', sigma = 10)\n",
    "    y = pm.NormalMixture('y', w = p, mu = means, sigma = sd, observed = y)\n",
    "    idata_mg_0 = pm.sample(random_seed=123, return_inferencedata=True)\n",
    "\n",
    "az.summary(idata_mg_0, var_names = ['means', 'p'])"
   ]
  },
  {
   "cell_type": "code",
   "execution_count": null,
   "metadata": {},
   "outputs": [],
   "source": [
    "with pm.Model() as model_mg_1:\n",
    "    p1 = pm.Dirichlet('p', a = np.ones(clusters))\n",
    "    means1 = pm.Normal('means', mu = x[1].mean(), sigma = 10, shape = clusters)\n",
    "    sd1 = pm.HalfNormal('sd', sigma = 10)\n",
    "    y = pm.NormalMixture('y', w = p1, mu = means1, sigma = sd1, observed = y)\n",
    "    idata_mg_1 = pm.sample(random_seed=123, return_inferencedata=True)\n",
    "\n",
    "az.summary(idata_mg_1, var_names = ['means1', 'p1'])"
   ]
  }
 ],
 "metadata": {
  "kernelspec": {
   "display_name": "Python 3",
   "language": "python",
   "name": "python3"
  },
  "language_info": {
   "codemirror_mode": {
    "name": "ipython",
    "version": 3
   },
   "file_extension": ".py",
   "mimetype": "text/x-python",
   "name": "python",
   "nbconvert_exporter": "python",
   "pygments_lexer": "ipython3",
   "version": "3.11.8"
  }
 },
 "nbformat": 4,
 "nbformat_minor": 2
}
