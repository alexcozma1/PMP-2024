{
 "cells": [
  {
   "cell_type": "code",
   "execution_count": 6,
   "metadata": {},
   "outputs": [
    {
     "name": "stdout",
     "output_type": "stream",
     "text": [
      "0.3174\n"
     ]
    }
   ],
   "source": [
    "def experiment():\n",
    "    import random;\n",
    "\n",
    "    rosii = 3\n",
    "    albastre = 4\n",
    "    negre = 2\n",
    "\n",
    "    def prim (x):\n",
    "        if x < 2:\n",
    "            return 0\n",
    "        for d in range(2, x//2, 2):\n",
    "            if x % d == 0:\n",
    "                return 0\n",
    "        return 1\n",
    "\n",
    "    zar = random.randint(1, 6)\n",
    "    if prim(zar) == 1:\n",
    "        negre += 1\n",
    "    elif zar == 6:\n",
    "        rosii += 1\n",
    "    else: \n",
    "        albastre += 1  \n",
    "\n",
    "    urna = ['rosie'] * rosii + ['albastra'] * albastre + ['neagra'] * negre\n",
    "\n",
    "    bila_extrasa = random.choice(urna)\n",
    "    urna.remove(bila_extrasa)\n",
    "    return bila_extrasa\n",
    "\n",
    "def probabilitate_rosie(simulari=10000):\n",
    "    numar_rosii = 0\n",
    "    for _ in range(simulari):\n",
    "        if experiment() == 'rosie':\n",
    "            numar_rosii += 1\n",
    "    return numar_rosii / simulari\n",
    "\n",
    "prob = probabilitate_rosie()\n",
    "print(prob)\n"
   ]
  }
 ],
 "metadata": {
  "kernelspec": {
   "display_name": "Python 3",
   "language": "python",
   "name": "python3"
  },
  "language_info": {
   "codemirror_mode": {
    "name": "ipython",
    "version": 3
   },
   "file_extension": ".py",
   "mimetype": "text/x-python",
   "name": "python",
   "nbconvert_exporter": "python",
   "pygments_lexer": "ipython3",
   "version": "3.11.8"
  }
 },
 "nbformat": 4,
 "nbformat_minor": 2
}
