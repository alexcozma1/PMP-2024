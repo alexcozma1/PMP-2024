{
 "cells": [
  {
   "cell_type": "markdown",
   "metadata": {},
   "source": [
    "a)"
   ]
  },
  {
   "cell_type": "code",
   "execution_count": 31,
   "metadata": {},
   "outputs": [
    {
     "name": "stdout",
     "output_type": "stream",
     "text": [
      "Număr de clienți: 26\n",
      "Timpii de plasare și plată a comenzilor: [1.08676519 3.71657362 0.33984291 0.34908336 0.60420559 1.11087243\n",
      " 0.21475993 3.06772799 2.62414787 0.65409396 0.9144931  1.59132613\n",
      " 1.89040949 0.86964086 1.04739838 1.24632283 3.54061641 3.21875942\n",
      " 5.73492865 2.11841456 7.44627699 2.02199766 2.8959905  0.36989623\n",
      " 1.94971081 0.97549037] minute\n",
      "Timpii de gătit: [0.56238951 0.3034777  0.42849944 0.39211528 0.46408124 0.55267928\n",
      " 0.29918071 0.35636451 0.98458776 0.88347211 1.24418284 0.75733285\n",
      " 1.80033914 0.38719741 0.01990062 0.13674527 0.73718527 0.2570901\n",
      " 1.29486986 0.22485753 0.09407058 0.74992929 0.70136322 0.15346221\n",
      " 0.31485354 0.90370484] minute\n"
     ]
    }
   ],
   "source": [
    "import numpy as np\n",
    "\n",
    "\n",
    "num_clients = np.random.poisson(20)\n",
    "\n",
    "payment_times = np.random.exponential(2, num_clients)\n",
    "\n",
    "alpha = 0.5\n",
    "cooking_times = np.random.exponential(alpha, num_clients)\n",
    "\n",
    "print(f\"Număr de clienți: {num_clients}\")\n",
    "print(f\"Timpii de plasare și plată a comenzilor: {payment_times} minute\")\n",
    "print(f\"Timpii de gătit: {cooking_times} minute\")\n"
   ]
  },
  {
   "cell_type": "markdown",
   "metadata": {},
   "source": [
    "b)"
   ]
  },
  {
   "cell_type": "code",
   "execution_count": 34,
   "metadata": {},
   "outputs": [
    {
     "name": "stdout",
     "output_type": "stream",
     "text": [
      "1.6818181818181819\n"
     ]
    }
   ],
   "source": [
    "def determine_max_alpha(lambda_clients, payment_time_mean, time_limit, probability, num_simulations):\n",
    "    alphas = np.linspace(0.5, 2, 100)  \n",
    "    successful_alpha = None \n",
    "\n",
    "    for alpha in alphas:\n",
    "        successful_simulations = 0\n",
    "\n",
    "        for sim in range(num_simulations):\n",
    "            num_clients = np.random.poisson(lambda_clients)\n",
    "            payment_times = np.random.exponential(payment_time_mean, num_clients)\n",
    "            cooking_times = np.random.exponential(alpha, num_clients)\n",
    "            total_times = payment_times + cooking_times\n",
    "\n",
    "            if np.all(total_times <= time_limit):\n",
    "                successful_simulations += 1\n",
    "\n",
    "        probability_success = successful_simulations / num_simulations\n",
    "\n",
    "        if probability_success >= probability:\n",
    "            successful_alpha = alpha\n",
    "\n",
    "    return successful_alpha\n",
    "\n",
    "alpha_max = determine_max_alpha(20, 2, 15, 0.95, 10000)\n",
    "print(alpha_max)\n"
   ]
  },
  {
   "cell_type": "markdown",
   "metadata": {},
   "source": [
    "c)"
   ]
  },
  {
   "cell_type": "code",
   "execution_count": 33,
   "metadata": {},
   "outputs": [
    {
     "name": "stdout",
     "output_type": "stream",
     "text": [
      "3.7347860814990383\n"
     ]
    }
   ],
   "source": [
    "num_clients = np.random.poisson(20)\n",
    "\n",
    "payment_times = np.random.exponential(2, num_clients)\n",
    "\n",
    "cooking_times = np.random.exponential(alpha_max, num_clients)\n",
    "total_times = payment_times + cooking_times\n",
    "\n",
    "average_wait_time = np.mean(total_times)\n",
    "print(average_wait_time)\n"
   ]
  }
 ],
 "metadata": {
  "kernelspec": {
   "display_name": "Python 3",
   "language": "python",
   "name": "python3"
  },
  "language_info": {
   "codemirror_mode": {
    "name": "ipython",
    "version": 3
   },
   "file_extension": ".py",
   "mimetype": "text/x-python",
   "name": "python",
   "nbconvert_exporter": "python",
   "pygments_lexer": "ipython3",
   "version": "3.11.8"
  }
 },
 "nbformat": 4,
 "nbformat_minor": 2
}
