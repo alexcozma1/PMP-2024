{
 "cells": [
  {
   "cell_type": "code",
   "execution_count": 1,
   "metadata": {},
   "outputs": [],
   "source": [
    "import pandas as pd\n",
    "\n",
    "file_path = 'real_estate_data.csv'\n",
    "data = pd.read_csv(file_path)\n"
   ]
  },
  {
   "cell_type": "code",
   "execution_count": 2,
   "metadata": {},
   "outputs": [
    {
     "name": "stderr",
     "output_type": "stream",
     "text": [
      "WARNING (pytensor.tensor.blas): Using NumPy C-API based implementation for BLAS functions.\n",
      "Auto-assigning NUTS sampler...\n",
      "Initializing NUTS using jitter+adapt_diag...\n",
      "Multiprocess sampling (4 chains in 4 jobs)\n",
      "NUTS: [beta_0, beta_1, beta_2, beta_3, sigma]\n"
     ]
    },
    {
     "data": {
      "application/vnd.jupyter.widget-view+json": {
       "model_id": "41ad7e3d482f4d6a8dfbdbc53836a369",
       "version_major": 2,
       "version_minor": 0
      },
      "text/plain": [
       "Output()"
      ]
     },
     "metadata": {},
     "output_type": "display_data"
    },
    {
     "data": {
      "text/html": [
       "<pre style=\"white-space:pre;overflow-x:auto;line-height:normal;font-family:Menlo,'DejaVu Sans Mono',consolas,'Courier New',monospace\"></pre>\n"
      ],
      "text/plain": []
     },
     "metadata": {},
     "output_type": "display_data"
    },
    {
     "name": "stderr",
     "output_type": "stream",
     "text": [
      "Sampling 4 chains for 1_000 tune and 2_000 draw iterations (4_000 + 8_000 draws total) took 20 seconds.\n"
     ]
    },
    {
     "data": {
      "text/html": [
       "<div>\n",
       "<style scoped>\n",
       "    .dataframe tbody tr th:only-of-type {\n",
       "        vertical-align: middle;\n",
       "    }\n",
       "\n",
       "    .dataframe tbody tr th {\n",
       "        vertical-align: top;\n",
       "    }\n",
       "\n",
       "    .dataframe thead th {\n",
       "        text-align: right;\n",
       "    }\n",
       "</style>\n",
       "<table border=\"1\" class=\"dataframe\">\n",
       "  <thead>\n",
       "    <tr style=\"text-align: right;\">\n",
       "      <th></th>\n",
       "      <th>mean</th>\n",
       "      <th>sd</th>\n",
       "      <th>hdi_3%</th>\n",
       "      <th>hdi_97%</th>\n",
       "      <th>mcse_mean</th>\n",
       "      <th>mcse_sd</th>\n",
       "      <th>ess_bulk</th>\n",
       "      <th>ess_tail</th>\n",
       "      <th>r_hat</th>\n",
       "    </tr>\n",
       "  </thead>\n",
       "  <tbody>\n",
       "    <tr>\n",
       "      <th>beta_0</th>\n",
       "      <td>-0.000</td>\n",
       "      <td>0.008</td>\n",
       "      <td>-0.015</td>\n",
       "      <td>0.013</td>\n",
       "      <td>0.0</td>\n",
       "      <td>0.0</td>\n",
       "      <td>13361.0</td>\n",
       "      <td>6578.0</td>\n",
       "      <td>1.0</td>\n",
       "    </tr>\n",
       "    <tr>\n",
       "      <th>beta_1</th>\n",
       "      <td>0.994</td>\n",
       "      <td>0.008</td>\n",
       "      <td>0.980</td>\n",
       "      <td>1.008</td>\n",
       "      <td>0.0</td>\n",
       "      <td>0.0</td>\n",
       "      <td>8889.0</td>\n",
       "      <td>6123.0</td>\n",
       "      <td>1.0</td>\n",
       "    </tr>\n",
       "    <tr>\n",
       "      <th>beta_2</th>\n",
       "      <td>0.148</td>\n",
       "      <td>0.008</td>\n",
       "      <td>0.133</td>\n",
       "      <td>0.161</td>\n",
       "      <td>0.0</td>\n",
       "      <td>0.0</td>\n",
       "      <td>10073.0</td>\n",
       "      <td>6526.0</td>\n",
       "      <td>1.0</td>\n",
       "    </tr>\n",
       "    <tr>\n",
       "      <th>beta_3</th>\n",
       "      <td>-0.119</td>\n",
       "      <td>0.008</td>\n",
       "      <td>-0.134</td>\n",
       "      <td>-0.105</td>\n",
       "      <td>0.0</td>\n",
       "      <td>0.0</td>\n",
       "      <td>9402.0</td>\n",
       "      <td>6466.0</td>\n",
       "      <td>1.0</td>\n",
       "    </tr>\n",
       "    <tr>\n",
       "      <th>sigma</th>\n",
       "      <td>0.075</td>\n",
       "      <td>0.005</td>\n",
       "      <td>0.065</td>\n",
       "      <td>0.086</td>\n",
       "      <td>0.0</td>\n",
       "      <td>0.0</td>\n",
       "      <td>9021.0</td>\n",
       "      <td>5899.0</td>\n",
       "      <td>1.0</td>\n",
       "    </tr>\n",
       "  </tbody>\n",
       "</table>\n",
       "</div>"
      ],
      "text/plain": [
       "         mean     sd  hdi_3%  hdi_97%  mcse_mean  mcse_sd  ess_bulk  ess_tail  \\\n",
       "beta_0 -0.000  0.008  -0.015    0.013        0.0      0.0   13361.0    6578.0   \n",
       "beta_1  0.994  0.008   0.980    1.008        0.0      0.0    8889.0    6123.0   \n",
       "beta_2  0.148  0.008   0.133    0.161        0.0      0.0   10073.0    6526.0   \n",
       "beta_3 -0.119  0.008  -0.134   -0.105        0.0      0.0    9402.0    6466.0   \n",
       "sigma   0.075  0.005   0.065    0.086        0.0      0.0    9021.0    5899.0   \n",
       "\n",
       "        r_hat  \n",
       "beta_0    1.0  \n",
       "beta_1    1.0  \n",
       "beta_2    1.0  \n",
       "beta_3    1.0  \n",
       "sigma     1.0  "
      ]
     },
     "execution_count": 2,
     "metadata": {},
     "output_type": "execute_result"
    }
   ],
   "source": [
    "import pymc as pm\n",
    "import numpy as np\n",
    "\n",
    "x1 = data['Surface_area'].values\n",
    "x2 = data['Rooms'].values\n",
    "x3 = data['Distance_to_center'].values\n",
    "y = data['Price'].values\n",
    "\n",
    "x1_std = (x1 - x1.mean()) / x1.std()\n",
    "x2_std = (x2 - x2.mean()) / x2.std()\n",
    "x3_std = (x3 - x3.mean()) / x3.std()\n",
    "y_std = (y - y.mean()) / y.std()\n",
    "\n",
    "with pm.Model() as model:\n",
    "    beta_0 = pm.Normal(\"beta_0\", mu=0, sigma=1)\n",
    "    beta_1 = pm.Normal(\"beta_1\", mu=0, sigma=1)\n",
    "    beta_2 = pm.Normal(\"beta_2\", mu=0, sigma=1)\n",
    "    beta_3 = pm.Normal(\"beta_3\", mu=0, sigma=1)\n",
    "    sigma = pm.HalfNormal(\"sigma\", sigma=1)\n",
    "\n",
    "    mu = beta_0 + beta_1 * x1_std + beta_2 * x2_std + beta_3 * x3_std\n",
    "\n",
    "    y_obs = pm.Normal(\"y_obs\", mu=mu, sigma=sigma, observed=y_std)\n",
    "\n",
    "    trace = pm.sample(2000, tune=1000, return_inferencedata=True)\n",
    "\n",
    "\n",
    "import arviz as az\n",
    "\n",
    "summary = az.summary(trace, var_names=[\"beta_0\", \"beta_1\", \"beta_2\", \"beta_3\", \"sigma\"])\n",
    "summary"
   ]
  }
 ],
 "metadata": {
  "kernelspec": {
   "display_name": "Python 3",
   "language": "python",
   "name": "python3"
  },
  "language_info": {
   "codemirror_mode": {
    "name": "ipython",
    "version": 3
   },
   "file_extension": ".py",
   "mimetype": "text/x-python",
   "name": "python",
   "nbconvert_exporter": "python",
   "pygments_lexer": "ipython3",
   "version": "3.11.8"
  }
 },
 "nbformat": 4,
 "nbformat_minor": 2
}
